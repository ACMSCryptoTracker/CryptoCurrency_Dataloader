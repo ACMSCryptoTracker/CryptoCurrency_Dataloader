{
 "cells": [
  {
   "cell_type": "code",
   "execution_count": 292,
   "metadata": {},
   "outputs": [],
   "source": [
    "#save the json data into text file\n",
    "from flask import Flask\n",
    "from flask import request\n",
    "import requests\n",
    "import json\n",
    "from flask import render_template\n",
    "import psycopg2\n",
    "import time\n",
    "from datetime import datetime\n"
   ]
  },
  {
   "cell_type": "code",
   "execution_count": 293,
   "metadata": {},
   "outputs": [],
   "source": [
    "#first close the localhost window then interrupt kernel\n",
    "app = Flask(__name__)\n",
    "@app.route('/', methods=['GET','POST'])\n",
    "def hello():\n",
    "    str=\"Welcome to Data visualization,Current cryptocurrencies under consideration are \\n 1)Bitcoin-BTC \\n 2)Ethereum-ETH \\n 3)Litecoin-LTC \\n 4)BitcoinCash-BCH \\n 5)Ripple-XRP\\n\"\n",
    "    return str\n"
   ]
  },
  {
   "cell_type": "markdown",
   "metadata": {
    "scrolled": true
   },
   "source": [
    "#Data Visualization through Graphs"
   ]
  },
  {
   "cell_type": "code",
   "execution_count": 294,
   "metadata": {},
   "outputs": [],
   "source": [
    "import pygal\n",
    "import json\n",
    "from datetime import datetime\n",
    "import time\n",
    "from flask import request"
   ]
  },
  {
   "cell_type": "code",
   "execution_count": 295,
   "metadata": {},
   "outputs": [],
   "source": [
    "def GraphCreationDay(cryptoname):\n",
    "        if cryptoname in ['BTC','ETH','XRP','LTC']:\n",
    "            cur.execute(\"select price_usd_day,last_updated_day from \"+cryptoname+\"_day ;\")\n",
    "            rows=cur.fetchall()\n",
    "            #plotting interactive svg\n",
    "            cryptod_x_axis_data=[]\n",
    "            cryptod_y_axis_data=[]\n",
    "            for i in range(len(rows)):\n",
    "                tupl= rows[i]\n",
    "                var= tupl[1]\n",
    "                if type(var)==float:\n",
    "                    cryptod_x_axis_data.append((datetime.fromtimestamp(tupl[1])).strftime('%Y-%m-%d %H:%M:%S'))\n",
    "                    cryptod_y_axis_data.append(tupl[0])\n",
    "            #conn.close()\n",
    "            chart=pygal.Line(x_label_rotation=45,x_labels_major_every=10,show_minor_x_labels=False)\n",
    "            chart.x_labels=cryptod_x_axis_data\n",
    "            chart.add(cryptoname+\" day\",cryptod_y_axis_data)\n",
    "            #if you want to download graph uncomment below\n",
    "            path='static/images/'+cryptoname+'DayGG10.svg'\n",
    "            chart.render_to_file(path)\n",
    "            chart=chart.render_data_uri()\n",
    "            return path\n",
    "        else:\n",
    "            return 0\n",
    "        #return \"Invalid Paramters\"\n",
    "        "
   ]
  },
  {
   "cell_type": "code",
   "execution_count": 296,
   "metadata": {},
   "outputs": [],
   "source": [
    "def GraphCreationMonth(cryptoname):\n",
    "        if cryptoname in ['BTC','ETH','XRP','LTC','BCH'] :\n",
    "            \n",
    "            cur.execute(\"select price_usd_month,last_updated_month from \"+cryptoname+\"_month ;\")\n",
    "            rows=cur.fetchall()\n",
    "            #plotting interactive svg\n",
    "            cryptod_x_axis_data=[]\n",
    "            cryptod_y_axis_data=[]\n",
    "            for i in range(len(rows)):\n",
    "                tupl= rows[i]\n",
    "                var= tupl[1]\n",
    "                if type(var)==float:\n",
    "                    cryptod_x_axis_data.append((datetime.fromtimestamp(tupl[1])).strftime('%Y-%m-%d %H:%M:%S'))\n",
    "                    cryptod_y_axis_data.append(tupl[0])\n",
    "            #conn.close()\n",
    "            chart=pygal.Line(x_label_rotation=45,x_labels_major_every=10,show_minor_x_labels=False)\n",
    "            chart.x_labels=cryptod_x_axis_data\n",
    "            chart.add(cryptoname+\" month\",cryptod_y_axis_data)\n",
    "            #if you want to download graph uncomment below\n",
    "            path='static/images/'+cryptoname+'monthGG10.svg'\n",
    "            chart.render_to_file(path)\n",
    "            chart=chart.render_data_uri()\n",
    "            return path\n",
    "        else:\n",
    "            return 0\n",
    "        #return \"Invalid Paramters\"\n",
    "        "
   ]
  },
  {
   "cell_type": "code",
   "execution_count": 297,
   "metadata": {},
   "outputs": [],
   "source": [
    "def ComparisonGraphDay():\n",
    "   \n",
    "            coins=['BTC','ETH','LTC','XRP']\n",
    "            chart=pygal.Line(x_label_rotation=45,x_labels_major_every=10,show_minor_x_labels=False)\n",
    "            for cryptoname in coins:\n",
    "                \n",
    "                cur.execute(\"select price_usd_day,last_updated_day from {}\".format(cryptoname)+\"_day;\")\n",
    "                rows=cur.fetchmany(49)    \n",
    "                cryptod_y_axis_data=[]\n",
    "                for i in range(len(rows)):\n",
    "                    tupl= rows[i]\n",
    "                    var= tupl[1]\n",
    "                    if type(var)==float:\n",
    "                        cryptod_y_axis_data.append(tupl[0])\n",
    "            \n",
    "                chart.add(cryptoname+\" Day\",cryptod_y_axis_data)\n",
    "            cryptod_x_axis_data=[]\n",
    "    \n",
    "            for i in range(len(rows)):\n",
    "                tupl=rows[i]\n",
    "                var=tupl[1]\n",
    "                if type(var)==float:\n",
    "                    cryptod_x_axis_data.append((datetime.fromtimestamp(tupl[1])).strftime('%Y-%m-%d %H:%M:%S'))\n",
    "            chart.x_labels=cryptod_x_axis_data\n",
    "            #uncomment next line if you want to save graph in file \n",
    "            path='static/images/AllDayGG10.svg'\n",
    "            chart.render_to_file(path)\n",
    "            #uncomment next 2 lines if graph response embedded in html is needed\n",
    "            #chart=chart.render_data_uri()\n",
    "            #return render_template( 'charts.html', chart = chart)\n",
    "            #return chart.render_response()\n",
    "            return path"
   ]
  },
  {
   "cell_type": "code",
   "execution_count": 298,
   "metadata": {},
   "outputs": [],
   "source": [
    "def ComparisonGraphMonth():\n",
    "   \n",
    "            coins=['BTC','ETH','LTC','XRP','BCH']\n",
    "            chart=pygal.Line(x_label_rotation=45,x_labels_major_every=10,show_minor_x_labels=False)\n",
    "            for cryptoname in coins:\n",
    "                \n",
    "                cur.execute(\"select price_usd_month,last_updated_month from {}\".format(cryptoname)+\"_month;\")\n",
    "                rows=cur.fetchall()    \n",
    "                cryptod_y_axis_data=[]\n",
    "                for i in range(len(rows)):\n",
    "                    tupl= rows[i]\n",
    "                    var= tupl[1]\n",
    "                    if type(var)==float:\n",
    "                        cryptod_y_axis_data.append(tupl[0])\n",
    "            \n",
    "                chart.add(cryptoname+\" Month\",cryptod_y_axis_data)\n",
    "            cryptod_x_axis_data=[]\n",
    "    \n",
    "            for i in range(len(rows)):\n",
    "                tupl=rows[i]\n",
    "                var=tupl[1]\n",
    "                if type(var)==float:\n",
    "                    cryptod_x_axis_data.append((datetime.fromtimestamp(tupl[1])).strftime('%Y-%m-%d %H:%M:%S'))\n",
    "            chart.x_labels=cryptod_x_axis_data\n",
    "            #uncomment next line if you want to save graph in file \n",
    "            path='static/images/AllMonthGG10.svg'\n",
    "            chart.render_to_file(path)\n",
    "            #uncomment next 2 lines if graph response embedded in html is needed\n",
    "            #chart=chart.render_data_uri()\n",
    "            #return render_template( 'charts.html', chart = chart)\n",
    "            #return chart.render_response()\n",
    "            return path"
   ]
  },
  {
   "cell_type": "code",
   "execution_count": 299,
   "metadata": {},
   "outputs": [],
   "source": [
    "from flask import jsonify,json\n",
    "json_object={}"
   ]
  },
  {
   "cell_type": "markdown",
   "metadata": {},
   "source": [
    "#Graph for a specific Cryptocurrency"
   ]
  },
  {
   "cell_type": "code",
   "execution_count": 300,
   "metadata": {},
   "outputs": [],
   "source": [
    "#to access say,BTC,over duration of day: URL http://127.0.0.1:5000/BTC/day/\n",
    "#to access say,XRP,over duration of month : URL http://127.0.0.1:5000/XRP/month/\n",
    "\n",
    "@app.route(\"/coinGraph\",methods=['GET','POST'])\n",
    "def IndividualGraph():\n",
    "    if 'cryptoname' and 'duration' in request.args:\n",
    "        cryptoname=request.args['cryptoname']\n",
    "        duration=request.args['duration']\n",
    "        \n",
    "        if cryptoname in ['BTC','ETH','XRP','LTC','BCH'] and duration=='day':\n",
    "            graph_path_response=GraphCreationDay(cryptoname)\n",
    "            json_object['Success']=1\n",
    "            json_object['message']='Succesfully rendered chart'\n",
    "            json_object['data']=graph_path_response\n",
    "            return jsonify(json_object)\n",
    "        elif cryptoname in ['BTC','ETH','XRP','LTC','BCH'] and duration=='month':\n",
    "            graph_path_response=GraphCreationMonth(cryptoname)\n",
    "            json_object['Success']=1\n",
    "            json_object['message']='Succesfully rendered chart'\n",
    "            json_object['data']=graph_path_response\n",
    "            return jsonify(json_object)\n",
    "        else:\n",
    "            json_object['Success']=0\n",
    "            json_object['message']='Invalid Parameter values'\n",
    "            json_object['data']='null'\n",
    "            return jsonify(json_object)\n",
    "    else:\n",
    "        json_object['Success']=0\n",
    "        json_object['message']=\"Missing Paramters\"\n",
    "        json_object['data']='null'\n",
    "        return jsonify(json_object)\n",
    "    \n",
    "        #return \"Invalid Paramters\"\n",
    "        \n",
    "\n",
    "    "
   ]
  },
  {
   "cell_type": "code",
   "execution_count": 301,
   "metadata": {},
   "outputs": [],
   "source": [
    "#Comparison graph of all 5 cryptocurrency"
   ]
  },
  {
   "cell_type": "code",
   "execution_count": 302,
   "metadata": {
    "scrolled": true
   },
   "outputs": [],
   "source": [
    "#to find a graph comparing 5 Cryptocurrency over duration of day/month url: http://127.0.0.1:5000/AllGraphs/day/ \n",
    "#or url: http://127.0.0.1:5000/AllGraphs/month/\n",
    "@app.route(\"/compareGraphs\",methods=['GET','POST'])\n",
    "def LineGraph():\n",
    "    if 'duration' in request.args:\n",
    "        duration=request.args['duration']\n",
    "        if duration =='day':\n",
    "            compareGraph_path_response=ComparisonGraphDay()\n",
    "            json_object['Success']=1\n",
    "            json_object['message']=\"Successfully rendered graph\"\n",
    "            json_object['data']='static/images/All'+duration+'.svg'\n",
    "            return jsonify(json_object)\n",
    "        elif duration =='month':\n",
    "            compareGraph_path_response=ComparisonGraphMonth()\n",
    "            json_object['Success']=1\n",
    "            json_object['message']=\"Successfully rendered graph\"\n",
    "            json_object['data']='static/images/All'+duration+'.svg'\n",
    "            return jsonify(json_object)\n",
    "        else:\n",
    "            json_object['Success']=0\n",
    "            json_object['message']=\"Invalid parameter value\"\n",
    "            json_object['data']='null'\n",
    "            return jsonify(json_object)\n",
    "    else:\n",
    "        json_object['Success']=0\n",
    "        json_object['message']=\"Missing Parameters\"\n",
    "        json_object['data']='null'\n",
    "        return jsonify(json_object)\n",
    "        \n",
    "    \n",
    "        \n"
   ]
  },
  {
   "cell_type": "code",
   "execution_count": 303,
   "metadata": {},
   "outputs": [
    {
     "name": "stderr",
     "output_type": "stream",
     "text": [
      " * Running on http://127.0.0.1:5000/ (Press CTRL+C to quit)\n",
      "127.0.0.1 - - [08/Apr/2018 21:15:34] \"GET /compareGraphs?duration=month HTTP/1.1\" 200 -\n"
     ]
    }
   ],
   "source": [
    "if (__name__ == \"__main__\"):\n",
    "    #establishing connections\n",
    "    hostname = 'baasu.db.elephantsql.com'\n",
    "    username = 'dbuzkqmi'\n",
    "    password = 'vi24qSFc5TG77k5GPa4aQr3XlnLOBIRf'\n",
    "    database = 'dbuzkqmi'\n",
    "    port='5432'\n",
    "    conn = psycopg2.connect(host=hostname, user=username, password=password, dbname=database,port=port)\n",
    "    #conn=connection()\n",
    "    curr=conn.cursor()\n",
    "    password ='12345'\n",
    "    email='goyalakshita@gmail.com'\n",
    "    name='Akshita'\n",
    "    curr.execute(\"insert into public.user (password,email,name) values('{}','{}','{}')\".format(password,email,name))\n",
    "    cur=conn.cursor()\n",
    "    app.run(debug=False)"
   ]
  },
  {
   "cell_type": "code",
   "execution_count": null,
   "metadata": {},
   "outputs": [],
   "source": []
  },
  {
   "cell_type": "code",
   "execution_count": null,
   "metadata": {},
   "outputs": [],
   "source": []
  },
  {
   "cell_type": "code",
   "execution_count": null,
   "metadata": {},
   "outputs": [],
   "source": []
  }
 ],
 "metadata": {
  "kernelspec": {
   "display_name": "Python 2",
   "language": "python",
   "name": "python2"
  },
  "language_info": {
   "codemirror_mode": {
    "name": "ipython",
    "version": 2
   },
   "file_extension": ".py",
   "mimetype": "text/x-python",
   "name": "python",
   "nbconvert_exporter": "python",
   "pygments_lexer": "ipython2",
   "version": "2.7.6"
  }
 },
 "nbformat": 4,
 "nbformat_minor": 2
}
